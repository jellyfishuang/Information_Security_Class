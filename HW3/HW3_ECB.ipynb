{
 "cells": [
  {
   "cell_type": "code",
   "execution_count": 1,
   "metadata": {},
   "outputs": [],
   "source": [
    "#引用\n",
    "from PIL import Image\n",
    "from Crypto.Cipher import AES\n",
    "import os\n",
    "\n",
    "#讀圖片\n",
    "img=Image.open('penguin.jpg')\n",
    "img_byte=img.convert(\"RGB\").tobytes()\n",
    "size=len(img_byte)#範圍\n",
    "need_to_pad=16-(size%16)#需要填充的數量\n",
    "s=bytes([255])\n",
    "for i in range(need_to_pad):#填充\n",
    "    img_byte+=s\n",
    "size=len(img_byte)#重新給值\n",
    "#加密&解密\n",
    "key=os.urandom(16)#16byte金鑰\n",
    "cipher=AES.new(key,AES.MODE_ECB)\n",
    "img_c=b''#存加密的\n",
    "img_d=b''#存解密的\n",
    "\n",
    "#加\n",
    "for i in range(0,size,16):#範圍內每次加16\n",
    "    be_encrypt=img_byte[i:i+16]\n",
    "    text=cipher.encrypt(be_encrypt)\n",
    "    img_c+=text\n",
    "#解\n",
    "for i in range(0,size,16):\n",
    "    be_decrypt=img_c[i:i+16]\n",
    "    text_decrypt=cipher.decrypt(be_decrypt)\n",
    "    img_d+=text_decrypt\n",
    "    \n",
    "#輸出    \n",
    "ECB_encrypt=Image.frombytes(\"RGB\",img.size,img_c)\n",
    "ECB_encrypt.save('./ECB_encrypt.png')\n",
    "ECB_decrypt=Image.frombytes(\"RGB\",img.size,img_d)\n",
    "ECB_decrypt.save('./ECB_decrypt.png')"
   ]
  },
  {
   "cell_type": "code",
   "execution_count": 97,
   "metadata": {},
   "outputs": [],
   "source": []
  },
  {
   "cell_type": "code",
   "execution_count": null,
   "metadata": {},
   "outputs": [],
   "source": []
  }
 ],
 "metadata": {
  "kernelspec": {
   "display_name": "Python 3",
   "language": "python",
   "name": "python3"
  },
  "language_info": {
   "codemirror_mode": {
    "name": "ipython",
    "version": 3
   },
   "file_extension": ".py",
   "mimetype": "text/x-python",
   "name": "python",
   "nbconvert_exporter": "python",
   "pygments_lexer": "ipython3",
   "version": "3.7.3"
  }
 },
 "nbformat": 4,
 "nbformat_minor": 2
}
