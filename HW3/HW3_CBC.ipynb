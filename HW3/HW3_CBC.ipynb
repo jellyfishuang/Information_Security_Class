{
 "cells": [
  {
   "cell_type": "code",
   "execution_count": 13,
   "metadata": {},
   "outputs": [],
   "source": [
    "#引用\n",
    "from PIL import Image\n",
    "from Crypto.Cipher import AES\n",
    "import os\n",
    "\n",
    "#讀圖片\n",
    "img=Image.open('penguin.jpg')\n",
    "img_byte=img.convert(\"RGB\").tobytes()\n",
    "size=len(img_byte)#範圍\n",
    "need_to_pad=16-(size%16)#需要填充的數量\n",
    "s=bytes([255])\n",
    "for i in range(need_to_pad):#填充\n",
    "    img_byte+=s\n",
    "size=len(img_byte)#重新給值\n",
    "count=int(size/16)\n",
    "\n",
    "#XOR函式\n",
    "def byte_xor(ba1, ba2):\n",
    "    return bytes([_a ^ _b for _a, _b in zip(ba1, ba2)])\n",
    "\n",
    "#加密&解密\n",
    "IV=os.urandom(16)#IV\n",
    "XOR_lis=[]#拿來XOR的陣列\n",
    "XOR_lis.append(IV)\n",
    "key=os.urandom(16)#16byte金鑰\n",
    "cipher=AES.new(key,AES.MODE_ECB)\n",
    "img_c=b''#存加密的\n",
    "img_d=b''#存解密的\n",
    "\n",
    "# #加\n",
    "xor_count=0\n",
    "for i in range(0,size,16):#範圍內每次加16\n",
    "    be_encrypt=img_byte[i:i+16]\n",
    "    be_encrypt=byte_xor(be_encrypt,XOR_lis[xor_count])\n",
    "    text=cipher.encrypt(be_encrypt)\n",
    "    XOR_lis.append(text)\n",
    "    xor_count+=1\n",
    "    img_c+=text\n",
    "# #解\n",
    "decrypt_count=0\n",
    "for i in range(0,size,16):\n",
    "    be_decrypt=img_c[i:i+16]\n",
    "    text_decrypt=cipher.decrypt(be_decrypt)\n",
    "    text_decrypt=byte_xor(text_decrypt,XOR_lis[decrypt_count])\n",
    "    decrypt_count+=1\n",
    "    img_d+=text_decrypt\n",
    "    \n",
    "#輸出    \n",
    "CBC_encrypt=Image.frombytes(\"RGB\",img.size,img_c)\n",
    "CBC_encrypt.save('./CBC_encrypt.png')\n",
    "CBC_decrypt=Image.frombytes(\"RGB\",img.size,img_d)\n",
    "CBC_decrypt.save('./CBC_decrypt.png')"
   ]
  },
  {
   "cell_type": "code",
   "execution_count": null,
   "metadata": {},
   "outputs": [],
   "source": []
  }
 ],
 "metadata": {
  "kernelspec": {
   "display_name": "Python 3",
   "language": "python",
   "name": "python3"
  },
  "language_info": {
   "codemirror_mode": {
    "name": "ipython",
    "version": 3
   },
   "file_extension": ".py",
   "mimetype": "text/x-python",
   "name": "python",
   "nbconvert_exporter": "python",
   "pygments_lexer": "ipython3",
   "version": "3.7.4"
  }
 },
 "nbformat": 4,
 "nbformat_minor": 2
}
