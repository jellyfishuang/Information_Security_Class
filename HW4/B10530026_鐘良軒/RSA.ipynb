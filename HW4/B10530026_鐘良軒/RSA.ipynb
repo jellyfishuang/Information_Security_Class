{
 "cells": [
  {
   "cell_type": "code",
   "execution_count": 10,
   "metadata": {},
   "outputs": [
    {
     "name": "stdout",
     "output_type": "stream",
     "text": [
      "p = 3\n",
      "q = 11\n",
      "Plain_text = 4\n",
      "Plain text: 4\n",
      "Encrypted text: 31\n",
      "Decrypted text: 4\n"
     ]
    }
   ],
   "source": [
    "from math import gcd\n",
    "import sys\n",
    "\n",
    "def find_e(phi_n):\n",
    "    for i in range( 2, phi_n):\n",
    "        if gcd( i, phi_n) == 1:\n",
    "            return i\n",
    "            break\n",
    "\n",
    "\n",
    "def mod(e, phi_n):\n",
    "    index = 1\n",
    "    ans_d = 0\n",
    "    while(1):\n",
    "        if ((index*e)%phi_n)==1 :\n",
    "            ans_d = index\n",
    "            return ans_d\n",
    "        else:\n",
    "            index = index + 1\n",
    "\n",
    "p = int(input(\"p = \"))\n",
    "q = int(input(\"q = \"))\n",
    "plain_text = int(input(\"Plain_text = \"))\n",
    "n = p * q\n",
    "phi_n = (p - 1) * (q - 1)\n",
    "e = find_e(phi_n)\n",
    "d = mod( e, phi_n )\n",
    "cipher_text = pow( plain_text, e, n ) \n",
    "decrypted = pow( cipher_text, d, n)\n",
    "\n",
    "print(\"Plain text: \" + str(plain_text))\n",
    "print(\"Encrypted text: \" + str(cipher_text))\n",
    "print(\"Decrypted text: \" + str(decrypted))\n"
   ]
  },
  {
   "cell_type": "code",
   "execution_count": null,
   "metadata": {},
   "outputs": [],
   "source": []
  }
 ],
 "metadata": {
  "kernelspec": {
   "display_name": "Python 3",
   "language": "python",
   "name": "python3"
  }
 },
 "nbformat": 4,
 "nbformat_minor": 2
}
